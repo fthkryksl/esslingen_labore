{
 "cells": [
  {
   "cell_type": "code",
   "execution_count": 1,
   "id": "b417dad9-3389-4681-8611-7cf65b4a077c",
   "metadata": {},
   "outputs": [],
   "source": [
    "import pandas as pd\n",
    "import numpy as np\n",
    "import matplotlib.pyplot as plt\n",
    "from datetime import datetime"
   ]
  },
  {
   "cell_type": "code",
   "execution_count": 2,
   "id": "0d82cac6-eaae-4d78-b25f-0c540660bbec",
   "metadata": {},
   "outputs": [],
   "source": [
    "def readData(filename):\n",
    "    # Daten einlesen\n",
    "    df = pd.read_csv(filename,\n",
    "                           sep=';',\n",
    "                           header=None,\n",
    "                           names=['Personalnummer', \n",
    "                                    'Anrede', \n",
    "                                    'Vorname', \n",
    "                                    'Nachname',\n",
    "                                    'Geburtsdatum'],\n",
    "                            encoding='latin-1') # encoding auf latin-1 da sonst probleme mit Umlauten\n",
    "    return df"
   ]
  },
  {
   "cell_type": "code",
   "execution_count": 3,
   "id": "8a4e93fb-ad93-41f2-a363-3704a07df981",
   "metadata": {},
   "outputs": [],
   "source": [
    "def is_valid_year(year: str):\n",
    "    # Testen ob Jahr valide ist\n",
    "    if year.isdigit() and len(year) == 4:\n",
    "        if int(year) > 1900 and int(year) < 2006:\n",
    "            return True\n",
    "    return False"
   ]
  },
  {
   "cell_type": "code",
   "execution_count": 4,
   "id": "d3a9eaa1-7e22-4c74-a5ea-7a0d3321d22b",
   "metadata": {},
   "outputs": [],
   "source": [
    "def is_correctable(birthday):\n",
    "    # Prüfen ob Datum korrigierbar ist\n",
    "    if isinstance(birthday, str):\n",
    "        months = ['Januar','Februar', 'März', 'April', 'Mai', 'Juni', 'Juli', 'August', 'September', 'Oktober', 'November', 'Dezember']\n",
    "        for m in months:\n",
    "            if m in birthday:\n",
    "                new_str = birthday.split(m)[1]\n",
    "                years = [x for x in new_str.split(' ') if x.isdigit()]\n",
    "                for year in years:\n",
    "                    if is_valid_year(year):\n",
    "                        return months.index(m) + 1, year\n",
    "                return months.index(m) + 1, None\n",
    "    return None, None"
   ]
  },
  {
   "cell_type": "code",
   "execution_count": 5,
   "id": "5bb54b3d-c645-4fb7-9f66-eb38b391aaf9",
   "metadata": {},
   "outputs": [],
   "source": [
    "def get_error_types_and_clean(errorframe, fullframe):\n",
    "    \n",
    "    # Erstelle ein neues Dataframe mit den Fehlertypen\n",
    "\n",
    "    for index, row in errorframe.iterrows():\n",
    "        birthday = row['Geburtsdatum']\n",
    "        month, year = is_correctable(birthday)\n",
    "        if month is not None and year is not None:\n",
    "            datensatz = 'Korrektur'\n",
    "            typ = 'Monat reicht für Alter'\n",
    "        elif month is not None:\n",
    "            datensatz = 'Löschen'\n",
    "            typ = 'Jahr fehlt'\n",
    "        elif year is not None:\n",
    "            datensatz = 'Löschen'\n",
    "            typ = 'Monat fehlt'\n",
    "        else:\n",
    "            datensatz = 'Löschen'\n",
    "            typ = 'Kein Datum'\n",
    "\n",
    "        errorframe.loc[index, 'Datensatz?'] = datensatz\n",
    "        errorframe.loc[index, 'Typ'] = typ\n",
    "\n",
    "\n",
    "        # Entferne/Korrigiere Datensätze\n",
    "        if datensatz == 'Löschen':\n",
    "            fullframe = fullframe.drop(index)\n",
    "        elif datensatz == 'Korrektur':\n",
    "            fullframe.loc[index,'Geburtsdatum'] = '01.' + str(month) + '.' + str(year)\n",
    "\n",
    "    return fullframe, errorframe"
   ]
  },
  {
   "cell_type": "code",
   "execution_count": 6,
   "id": "0ab81ea6-6d5c-448c-b0a7-f6c8a87ae848",
   "metadata": {},
   "outputs": [],
   "source": [
    "def clean(data):\n",
    "    errorframe = data.loc[pd.to_datetime(data['Geburtsdatum'], format='%d.%m.%Y',errors='coerce').isna(), ['Personalnummer', \n",
    "                                    'Anrede', \n",
    "                                    'Vorname', \n",
    "                                    'Nachname',\n",
    "                                    'Geburtsdatum']]\n",
    "    cleaned, err = get_error_types_and_clean(errorframe, data)\n",
    "    return cleaned, err"
   ]
  },
  {
   "cell_type": "code",
   "execution_count": 7,
   "id": "818995a1-d257-4c26-b305-365af6506892",
   "metadata": {},
   "outputs": [],
   "source": [
    "def from_dob_to_age(dob):\n",
    "    st = datetime(2005,12,31)\n",
    "    #st = datetime.today()\n",
    "    a = st.year - dob.year - ((st.month, st.day) < (dob.month, dob.day))\n",
    "    return a\n",
    "\n",
    "def get_gender_based_birthdays(data, gender=None):\n",
    "    # Alle Geburtsdaten des angegebenen Geschlechts\n",
    "    # Wenn kein Geschlecht angegeben ist gibt diese Funktion alle Geburtstage zurück\n",
    "    if gender is not None:\n",
    "        data = data[data['Anrede'] == gender]\n",
    "    \n",
    "    # Alter ausrechnen\n",
    "    \n",
    "    age = pd.DataFrame(columns=['age'])\n",
    "\n",
    "    age['age'] = pd.to_datetime(data['Geburtsdatum'], format=\"%d.%m.%Y\").apply(lambda x: from_dob_to_age(x))\n",
    "\n",
    "    \n",
    "    return age"
   ]
  },
  {
   "cell_type": "code",
   "execution_count": 8,
   "id": "a1796b77-5359-434e-a214-d403cfe4512c",
   "metadata": {},
   "outputs": [],
   "source": [
    "def age_average(data):\n",
    "    # Berechne durchschnittliches Alter\n",
    "    return data['age'].mean()\n",
    "\n",
    "def age_variance(data):\n",
    "    # Berechne altersvarianz\n",
    "    variance = data['age'].var()\n",
    "    return variance\n",
    "    \n",
    "def age_standard_deviation(data):\n",
    "    # Berechne Standadabweichung\n",
    "    return data['age'].std()\n",
    "\n",
    "def get_median(data):\n",
    "    # Berechne Median\n",
    "    return data['age'].median()\n",
    "\n",
    "def get_range(data):\n",
    "    # Berechne Range\n",
    "    return data['age'].max() - data['age'].min()"
   ]
  },
  {
   "cell_type": "code",
   "execution_count": 9,
   "id": "a20098cf-f392-4866-b39f-d5117ca2969a",
   "metadata": {},
   "outputs": [],
   "source": [
    "dt = readData('sr_aufg_1_35.txt')"
   ]
  },
  {
   "cell_type": "code",
   "execution_count": 10,
   "id": "96ece50e-5baf-4d99-8ad6-4b80132a43ad",
   "metadata": {},
   "outputs": [],
   "source": [
    "dt_clean, err = clean(dt)"
   ]
  },
  {
   "cell_type": "code",
   "execution_count": 11,
   "id": "6603757b-120e-431e-a78d-908a272445f7",
   "metadata": {},
   "outputs": [
    {
     "data": {
      "text/html": [
       "<style type=\"text/css\">\n",
       "</style>\n",
       "<table id=\"T_ca9a7_\">\n",
       "  <thead>\n",
       "    <tr>\n",
       "      <th class=\"blank level0\" >&nbsp;</th>\n",
       "      <th class=\"col_heading level0 col0\" >Personalnummer</th>\n",
       "      <th class=\"col_heading level0 col1\" >Anrede</th>\n",
       "      <th class=\"col_heading level0 col2\" >Vorname</th>\n",
       "      <th class=\"col_heading level0 col3\" >Nachname</th>\n",
       "      <th class=\"col_heading level0 col4\" >Geburtsdatum</th>\n",
       "      <th class=\"col_heading level0 col5\" >Datensatz?</th>\n",
       "      <th class=\"col_heading level0 col6\" >Typ</th>\n",
       "    </tr>\n",
       "  </thead>\n",
       "  <tbody>\n",
       "    <tr>\n",
       "      <th id=\"T_ca9a7_level0_row0\" class=\"row_heading level0 row0\" >7</th>\n",
       "      <td id=\"T_ca9a7_row0_col0\" class=\"data row0 col0\" >8</td>\n",
       "      <td id=\"T_ca9a7_row0_col1\" class=\"data row0 col1\" >Herr</td>\n",
       "      <td id=\"T_ca9a7_row0_col2\" class=\"data row0 col2\" >Siegfried Metzger</td>\n",
       "      <td id=\"T_ca9a7_row0_col3\" class=\"data row0 col3\" >16.02.1963</td>\n",
       "      <td id=\"T_ca9a7_row0_col4\" class=\"data row0 col4\" >nan</td>\n",
       "      <td id=\"T_ca9a7_row0_col5\" class=\"data row0 col5\" >Löschen</td>\n",
       "      <td id=\"T_ca9a7_row0_col6\" class=\"data row0 col6\" >Kein Datum</td>\n",
       "    </tr>\n",
       "    <tr>\n",
       "      <th id=\"T_ca9a7_level0_row1\" class=\"row_heading level0 row1\" >21</th>\n",
       "      <td id=\"T_ca9a7_row1_col0\" class=\"data row1 col0\" >22</td>\n",
       "      <td id=\"T_ca9a7_row1_col1\" class=\"data row1 col1\" >Frau</td>\n",
       "      <td id=\"T_ca9a7_row1_col2\" class=\"data row1 col2\" >Elisabeth</td>\n",
       "      <td id=\"T_ca9a7_row1_col3\" class=\"data row1 col3\" >Rau</td>\n",
       "      <td id=\"T_ca9a7_row1_col4\" class=\"data row1 col4\" > im Februar 1965</td>\n",
       "      <td id=\"T_ca9a7_row1_col5\" class=\"data row1 col5\" >Korrektur</td>\n",
       "      <td id=\"T_ca9a7_row1_col6\" class=\"data row1 col6\" >Monat reicht für Alter</td>\n",
       "    </tr>\n",
       "    <tr>\n",
       "      <th id=\"T_ca9a7_level0_row2\" class=\"row_heading level0 row2\" >23</th>\n",
       "      <td id=\"T_ca9a7_row2_col0\" class=\"data row2 col0\" >24</td>\n",
       "      <td id=\"T_ca9a7_row2_col1\" class=\"data row2 col1\" >Herr</td>\n",
       "      <td id=\"T_ca9a7_row2_col2\" class=\"data row2 col2\" >Manfred</td>\n",
       "      <td id=\"T_ca9a7_row2_col3\" class=\"data row2 col3\" >Wagner</td>\n",
       "      <td id=\"T_ca9a7_row2_col4\" class=\"data row2 col4\" >VHVeHvZZXM</td>\n",
       "      <td id=\"T_ca9a7_row2_col5\" class=\"data row2 col5\" >Löschen</td>\n",
       "      <td id=\"T_ca9a7_row2_col6\" class=\"data row2 col6\" >Kein Datum</td>\n",
       "    </tr>\n",
       "    <tr>\n",
       "      <th id=\"T_ca9a7_level0_row3\" class=\"row_heading level0 row3\" >39</th>\n",
       "      <td id=\"T_ca9a7_row3_col0\" class=\"data row3 col0\" >40</td>\n",
       "      <td id=\"T_ca9a7_row3_col1\" class=\"data row3 col1\" >Herr</td>\n",
       "      <td id=\"T_ca9a7_row3_col2\" class=\"data row3 col2\" >Werner</td>\n",
       "      <td id=\"T_ca9a7_row3_col3\" class=\"data row3 col3\" >Hartung</td>\n",
       "      <td id=\"T_ca9a7_row3_col4\" class=\"data row3 col4\" >27.09.814</td>\n",
       "      <td id=\"T_ca9a7_row3_col5\" class=\"data row3 col5\" >Löschen</td>\n",
       "      <td id=\"T_ca9a7_row3_col6\" class=\"data row3 col6\" >Kein Datum</td>\n",
       "    </tr>\n",
       "    <tr>\n",
       "      <th id=\"T_ca9a7_level0_row4\" class=\"row_heading level0 row4\" >41</th>\n",
       "      <td id=\"T_ca9a7_row4_col0\" class=\"data row4 col0\" >42</td>\n",
       "      <td id=\"T_ca9a7_row4_col1\" class=\"data row4 col1\" >Herr</td>\n",
       "      <td id=\"T_ca9a7_row4_col2\" class=\"data row4 col2\" >Christoph</td>\n",
       "      <td id=\"T_ca9a7_row4_col3\" class=\"data row4 col3\" >Weiß</td>\n",
       "      <td id=\"T_ca9a7_row4_col4\" class=\"data row4 col4\" >    </td>\n",
       "      <td id=\"T_ca9a7_row4_col5\" class=\"data row4 col5\" >Löschen</td>\n",
       "      <td id=\"T_ca9a7_row4_col6\" class=\"data row4 col6\" >Kein Datum</td>\n",
       "    </tr>\n",
       "    <tr>\n",
       "      <th id=\"T_ca9a7_level0_row5\" class=\"row_heading level0 row5\" >54</th>\n",
       "      <td id=\"T_ca9a7_row5_col0\" class=\"data row5 col0\" >55</td>\n",
       "      <td id=\"T_ca9a7_row5_col1\" class=\"data row5 col1\" >Frau</td>\n",
       "      <td id=\"T_ca9a7_row5_col2\" class=\"data row5 col2\" >Heike</td>\n",
       "      <td id=\"T_ca9a7_row5_col3\" class=\"data row5 col3\" >Schneider</td>\n",
       "      <td id=\"T_ca9a7_row5_col4\" class=\"data row5 col4\" >unbekannt</td>\n",
       "      <td id=\"T_ca9a7_row5_col5\" class=\"data row5 col5\" >Löschen</td>\n",
       "      <td id=\"T_ca9a7_row5_col6\" class=\"data row5 col6\" >Kein Datum</td>\n",
       "    </tr>\n",
       "    <tr>\n",
       "      <th id=\"T_ca9a7_level0_row6\" class=\"row_heading level0 row6\" >64</th>\n",
       "      <td id=\"T_ca9a7_row6_col0\" class=\"data row6 col0\" >65</td>\n",
       "      <td id=\"T_ca9a7_row6_col1\" class=\"data row6 col1\" >Herr</td>\n",
       "      <td id=\"T_ca9a7_row6_col2\" class=\"data row6 col2\" >Oliver</td>\n",
       "      <td id=\"T_ca9a7_row6_col3\" class=\"data row6 col3\" >Berger</td>\n",
       "      <td id=\"T_ca9a7_row6_col4\" class=\"data row6 col4\" >xxxx</td>\n",
       "      <td id=\"T_ca9a7_row6_col5\" class=\"data row6 col5\" >Löschen</td>\n",
       "      <td id=\"T_ca9a7_row6_col6\" class=\"data row6 col6\" >Kein Datum</td>\n",
       "    </tr>\n",
       "    <tr>\n",
       "      <th id=\"T_ca9a7_level0_row7\" class=\"row_heading level0 row7\" >65</th>\n",
       "      <td id=\"T_ca9a7_row7_col0\" class=\"data row7 col0\" >66</td>\n",
       "      <td id=\"T_ca9a7_row7_col1\" class=\"data row7 col1\" >Herr</td>\n",
       "      <td id=\"T_ca9a7_row7_col2\" class=\"data row7 col2\" >Thomas</td>\n",
       "      <td id=\"T_ca9a7_row7_col3\" class=\"data row7 col3\" >Alt</td>\n",
       "      <td id=\"T_ca9a7_row7_col4\" class=\"data row7 col4\" >20.11.</td>\n",
       "      <td id=\"T_ca9a7_row7_col5\" class=\"data row7 col5\" >Löschen</td>\n",
       "      <td id=\"T_ca9a7_row7_col6\" class=\"data row7 col6\" >Kein Datum</td>\n",
       "    </tr>\n",
       "    <tr>\n",
       "      <th id=\"T_ca9a7_level0_row8\" class=\"row_heading level0 row8\" >73</th>\n",
       "      <td id=\"T_ca9a7_row8_col0\" class=\"data row8 col0\" >74</td>\n",
       "      <td id=\"T_ca9a7_row8_col1\" class=\"data row8 col1\" >Herr</td>\n",
       "      <td id=\"T_ca9a7_row8_col2\" class=\"data row8 col2\" >Jochen</td>\n",
       "      <td id=\"T_ca9a7_row8_col3\" class=\"data row8 col3\" >Walter</td>\n",
       "      <td id=\"T_ca9a7_row8_col4\" class=\"data row8 col4\" >24.10.2824</td>\n",
       "      <td id=\"T_ca9a7_row8_col5\" class=\"data row8 col5\" >Löschen</td>\n",
       "      <td id=\"T_ca9a7_row8_col6\" class=\"data row8 col6\" >Kein Datum</td>\n",
       "    </tr>\n",
       "    <tr>\n",
       "      <th id=\"T_ca9a7_level0_row9\" class=\"row_heading level0 row9\" >81</th>\n",
       "      <td id=\"T_ca9a7_row9_col0\" class=\"data row9 col0\" >82</td>\n",
       "      <td id=\"T_ca9a7_row9_col1\" class=\"data row9 col1\" >Frau</td>\n",
       "      <td id=\"T_ca9a7_row9_col2\" class=\"data row9 col2\" >Dorothea</td>\n",
       "      <td id=\"T_ca9a7_row9_col3\" class=\"data row9 col3\" >Seidel</td>\n",
       "      <td id=\"T_ca9a7_row9_col4\" class=\"data row9 col4\" >xxxx</td>\n",
       "      <td id=\"T_ca9a7_row9_col5\" class=\"data row9 col5\" >Löschen</td>\n",
       "      <td id=\"T_ca9a7_row9_col6\" class=\"data row9 col6\" >Kein Datum</td>\n",
       "    </tr>\n",
       "    <tr>\n",
       "      <th id=\"T_ca9a7_level0_row10\" class=\"row_heading level0 row10\" >100</th>\n",
       "      <td id=\"T_ca9a7_row10_col0\" class=\"data row10 col0\" >101</td>\n",
       "      <td id=\"T_ca9a7_row10_col1\" class=\"data row10 col1\" >Frau</td>\n",
       "      <td id=\"T_ca9a7_row10_col2\" class=\"data row10 col2\" >Kerstin</td>\n",
       "      <td id=\"T_ca9a7_row10_col3\" class=\"data row10 col3\" >Kaiser</td>\n",
       "      <td id=\"T_ca9a7_row10_col4\" class=\"data row10 col4\" >12.12.2540</td>\n",
       "      <td id=\"T_ca9a7_row10_col5\" class=\"data row10 col5\" >Löschen</td>\n",
       "      <td id=\"T_ca9a7_row10_col6\" class=\"data row10 col6\" >Kein Datum</td>\n",
       "    </tr>\n",
       "  </tbody>\n",
       "</table>\n"
      ],
      "text/plain": [
       "<pandas.io.formats.style.Styler at 0x1cccfc4e0d0>"
      ]
     },
     "execution_count": 11,
     "metadata": {},
     "output_type": "execute_result"
    }
   ],
   "source": [
    "err.style"
   ]
  },
  {
   "cell_type": "code",
   "execution_count": 21,
   "id": "9793fc9d-f22a-43f1-b8c4-526af0260908",
   "metadata": {},
   "outputs": [
    {
     "name": "stdout",
     "output_type": "stream",
     "text": [
      "102\n",
      "18\n"
     ]
    }
   ],
   "source": [
    "gbb = get_gender_based_birthdays(dt_clean,'Herr')\n",
    "male_average = age_average(gbb)\n",
    "male_variance = age_variance(gbb)\n",
    "male_standard_deviation = age_standard_deviation(gbb)\n",
    "male_median = get_median(gbb)\n",
    "male_range = get_range(gbb)\n",
    "male_a020 = gbb[gbb['age'].apply(lambda y: y >= 0 and y < 20)]\n",
    "male_a2030 = gbb[gbb['age'].apply(lambda y: y >= 20 and y < 30)]\n",
    "male_a3040 = gbb[gbb['age'].apply(lambda y: y >= 30 and y < 40)]\n",
    "male_a4050 = gbb[gbb['age'].apply(lambda y: y >= 40 and y < 50)]\n",
    "male_a50 = gbb[gbb['age'].apply(lambda y: y >= 50)]\n",
    "male_all = gbb['age']\n",
    "\n",
    "gbb = get_gender_based_birthdays(dt_clean, 'Frau')\n",
    "female_average = age_average(gbb)\n",
    "female_variance = age_variance(gbb)\n",
    "female_standard_deviation = age_standard_deviation(gbb)\n",
    "female_median = get_median(gbb)\n",
    "female_range = get_range(gbb)\n",
    "female_a020 = gbb[gbb['age'].apply(lambda y: y >= 0 and y < 20)]\n",
    "female_a2030 = gbb[gbb['age'].apply(lambda y: y >= 20 and y < 30)]\n",
    "female_a3040 = gbb[gbb['age'].apply(lambda y: y >= 30 and y < 40)]\n",
    "female_a4050 = gbb[gbb['age'].apply(lambda y: y >= 40 and y < 50)]\n",
    "female_a50 = gbb[gbb['age'].apply(lambda y: y >= 50)]\n",
    "female_all = gbb['age']\n",
    "\n",
    "gbb = get_gender_based_birthdays(dt_clean)\n",
    "max_all = gbb['age'].max()\n",
    "min_all = gbb['age'].min()\n",
    "average = age_average(gbb)\n",
    "variance = age_variance(gbb)\n",
    "standard_deviation = age_standard_deviation(gbb)\n",
    "median = get_median(gbb)\n",
    "rng = get_range(gbb)\n",
    "print(max_all)\n",
    "print(min_all)\n",
    "\n"
   ]
  },
  {
   "cell_type": "code",
   "execution_count": 13,
   "id": "2b315d58-31e6-4b23-bec6-84e1546eeacc",
   "metadata": {},
   "outputs": [],
   "source": [
    "dat = [ {average, female_average, male_average},\n",
    "        {variance, female_variance, male_variance},\n",
    "        {standard_deviation, female_standard_deviation, male_standard_deviation},\n",
    "        {median, female_median, male_median},\n",
    "        {rng, female_range, male_range} ]"
   ]
  },
  {
   "cell_type": "code",
   "execution_count": 14,
   "id": "f37aa46f-a5d9-4796-9b5a-f38387d9dc4a",
   "metadata": {},
   "outputs": [],
   "source": [
    "dataf = pd.DataFrame(dat, columns=['gesamt', 'Frauen', 'Männer'], \n",
    "        index=['Mittelwert', 'Varianz', 'Std.-Abw', 'Median', 'Spannweite'])"
   ]
  },
  {
   "cell_type": "code",
   "execution_count": 15,
   "id": "12d56e36-ce32-4a43-a756-9cbb683cfe83",
   "metadata": {},
   "outputs": [
    {
     "data": {
      "text/html": [
       "<style type=\"text/css\">\n",
       "</style>\n",
       "<table id=\"T_f9cef_\">\n",
       "  <thead>\n",
       "    <tr>\n",
       "      <th class=\"blank level0\" >&nbsp;</th>\n",
       "      <th class=\"col_heading level0 col0\" >gesamt</th>\n",
       "      <th class=\"col_heading level0 col1\" >Frauen</th>\n",
       "      <th class=\"col_heading level0 col2\" >Männer</th>\n",
       "    </tr>\n",
       "  </thead>\n",
       "  <tbody>\n",
       "    <tr>\n",
       "      <th id=\"T_f9cef_level0_row0\" class=\"row_heading level0 row0\" >Mittelwert</th>\n",
       "      <td id=\"T_f9cef_row0_col0\" class=\"data row0 col0\" >40.529412</td>\n",
       "      <td id=\"T_f9cef_row0_col1\" class=\"data row0 col1\" >43.900000</td>\n",
       "      <td id=\"T_f9cef_row0_col2\" class=\"data row0 col2\" >37.288462</td>\n",
       "    </tr>\n",
       "    <tr>\n",
       "      <th id=\"T_f9cef_level0_row1\" class=\"row_heading level0 row1\" >Varianz</th>\n",
       "      <td id=\"T_f9cef_row1_col0\" class=\"data row1 col0\" >183.846939</td>\n",
       "      <td id=\"T_f9cef_row1_col1\" class=\"data row1 col1\" >180.758296</td>\n",
       "      <td id=\"T_f9cef_row1_col2\" class=\"data row1 col2\" >191.499126</td>\n",
       "    </tr>\n",
       "    <tr>\n",
       "      <th id=\"T_f9cef_level0_row2\" class=\"row_heading level0 row2\" >Std.-Abw</th>\n",
       "      <td id=\"T_f9cef_row2_col0\" class=\"data row2 col0\" >13.444638</td>\n",
       "      <td id=\"T_f9cef_row2_col1\" class=\"data row2 col1\" >13.559017</td>\n",
       "      <td id=\"T_f9cef_row2_col2\" class=\"data row2 col2\" >13.838321</td>\n",
       "    </tr>\n",
       "    <tr>\n",
       "      <th id=\"T_f9cef_level0_row3\" class=\"row_heading level0 row3\" >Median</th>\n",
       "      <td id=\"T_f9cef_row3_col0\" class=\"data row3 col0\" >36.000000</td>\n",
       "      <td id=\"T_f9cef_row3_col1\" class=\"data row3 col1\" >47.000000</td>\n",
       "      <td id=\"T_f9cef_row3_col2\" class=\"data row3 col2\" >39.000000</td>\n",
       "    </tr>\n",
       "    <tr>\n",
       "      <th id=\"T_f9cef_level0_row4\" class=\"row_heading level0 row4\" >Spannweite</th>\n",
       "      <td id=\"T_f9cef_row4_col0\" class=\"data row4 col0\" >83.000000</td>\n",
       "      <td id=\"T_f9cef_row4_col1\" class=\"data row4 col1\" >84.000000</td>\n",
       "      <td id=\"T_f9cef_row4_col2\" class=\"data row4 col2\" >46.000000</td>\n",
       "    </tr>\n",
       "  </tbody>\n",
       "</table>\n"
      ],
      "text/plain": [
       "<pandas.io.formats.style.Styler at 0x1cccfe25a60>"
      ]
     },
     "execution_count": 15,
     "metadata": {},
     "output_type": "execute_result"
    }
   ],
   "source": [
    "dataf.style"
   ]
  },
  {
   "cell_type": "code",
   "execution_count": 16,
   "id": "3342580a-d1e7-416b-88ac-fd3788dcb818",
   "metadata": {},
   "outputs": [
    {
     "data": {
      "image/png": "[encoded data removed]",
      "text/plain": [
       "<Figure size 432x288 with 1 Axes>"
      ]
     },
     "metadata": {
      "needs_background": "light"
     },
     "output_type": "display_data"
    }
   ],
   "source": [
    "labels = np.array(['(0,20]','(20,30]','(30,40]','(40,50]','(50,]'])\n",
    "male = np.array([\n",
    "    len(male_a020.index),\n",
    "    len(male_a2030.index),\n",
    "    len(male_a3040.index),\n",
    "    len(male_a4050.index),\n",
    "    len(male_a50.index)\n",
    "])\n",
    "female = np.array([\n",
    "    len(female_a020.index),\n",
    "    len(female_a2030.index),\n",
    "    len(female_a3040.index),\n",
    "    len(female_a4050.index),\n",
    "    len(female_a50.index)\n",
    "])\n",
    "x = np.arange(len(labels))\n",
    "width = 0.35\n",
    "fig, ax = plt.subplots()\n",
    "rect1 = ax.bar(x-width/2,male,width,label=\"Männer\")\n",
    "rect2 = ax.bar(x+width/2,female,width,label=\"Frauen\")\n",
    "\n",
    "ax.set_ylabel(\"Häufigkeit\")\n",
    "ax.set_title(\"Altersverteilung zum Stichtag 31.12.2005\")\n",
    "ax.set_xticks(x)\n",
    "ax.set_xticklabels(labels)\n",
    "ax.legend()\n",
    "\n",
    "#ax.bar(rect1, padding=6)\n",
    "#ax.bar(rect2, padding=6)\n",
    "\n",
    "fig.tight_layout()\n",
    "\n",
    "plt.show()"
   ]
  },
  {
   "cell_type": "code",
   "execution_count": 17,
   "metadata": {},
   "outputs": [
    {
     "data": {
      "image/png": "[encoded data removed]",
      "text/plain": [
       "<Figure size 432x288 with 1 Axes>"
      ]
     },
     "metadata": {},
     "output_type": "display_data"
    }
   ],
   "source": [
    "male_all_count = len(male_all)\n",
    "labels = ['(0,20]','(20,30]','(30,40]','(40,50]','(50,]']\n",
    "sizes = [\n",
    "        len(male_a020)/male_all_count*100,\n",
    "        len(male_a2030)/male_all_count*100,\n",
    "        len(male_a3040)/male_all_count*100,\n",
    "        len(male_a4050)/male_all_count*100,\n",
    "        len(male_a50)/male_all_count*100\n",
    "        ]\n",
    "\n",
    "fig1, ax1 = plt.subplots()\n",
    "ax1.pie(sizes,labels=labels, autopct='%1.1f%%',\n",
    "        startangle=90)\n",
    "ax1.axis('equal')\n",
    "plt.title(\"Altersverteilung Männer\")\n",
    "plt.show()"
   ]
  },
  {
   "cell_type": "code",
   "execution_count": 18,
   "id": "a1c3f5de",
   "metadata": {},
   "outputs": [
    {
     "data": {
      "image/png": "[encoded data removed]",
      "text/plain": [
       "<Figure size 432x288 with 1 Axes>"
      ]
     },
     "metadata": {},
     "output_type": "display_data"
    }
   ],
   "source": [
    "female_all_count = len(female_all)\n",
    "sizes = [\n",
    "        len(female_a020)/female_all_count*100,\n",
    "        len(female_a2030)/female_all_count*100,\n",
    "        len(female_a3040)/female_all_count*100,\n",
    "        len(female_a4050)/female_all_count*100,\n",
    "        len(female_a50)/female_all_count*100\n",
    "        ]\n",
    "fig1, ax1 = plt.subplots()\n",
    "ax1.pie(sizes,labels=labels, autopct='%1.1f%%',\n",
    "        startangle=90)\n",
    "ax1.axis('equal')\n",
    "plt.title(\"Altersverteilung Frauen\")\n",
    "plt.show()"
   ]
  }
 ],
 "metadata": {
  "kernelspec": {
   "display_name": "Python 3 (ipykernel)",
   "language": "python",
   "name": "python3"
  },
  "language_info": {
   "codemirror_mode": {
    "name": "ipython",
    "version": 3
   },
   "file_extension": ".py",
   "mimetype": "text/x-python",
   "name": "python",
   "nbconvert_exporter": "python",
   "pygments_lexer": "ipython3",
   "version": "3.9.7"
  }
 },
 "nbformat": 4,
 "nbformat_minor": 5
}
