{
 "cells": [
  {
   "cell_type": "markdown",
   "id": "350ca9a6",
   "metadata": {},
   "source": [
    "# Statistik Labor Aufgabe 1"
   ]
  },
  {
   "cell_type": "markdown",
   "id": "46292aa5",
   "metadata": {},
   "source": [
    "### Importieren von Bibliotheken"
   ]
  },
  {
   "cell_type": "code",
   "execution_count": 1,
   "id": "b417dad9-3389-4681-8611-7cf65b4a077c",
   "metadata": {},
   "outputs": [],
   "source": [
    "import pandas as pd\n",
    "import numpy as np\n",
    "import matplotlib.pyplot as plt\n",
    "from datetime import datetime"
   ]
  },
  {
   "cell_type": "markdown",
   "id": "ea61a342",
   "metadata": {},
   "source": [
    "### Funktionen"
   ]
  },
  {
   "cell_type": "markdown",
   "id": "37e6d73a",
   "metadata": {},
   "source": [
    "#### Einlesen der Daten"
   ]
  },
  {
   "cell_type": "code",
   "execution_count": 2,
   "id": "0d82cac6-eaae-4d78-b25f-0c540660bbec",
   "metadata": {},
   "outputs": [],
   "source": [
    "def readData(filename)->pd.DataFrame:\n",
    "    # Daten einlesen\n",
    "    df = pd.read_csv(filename,\n",
    "                           sep=';',\n",
    "                           header=None,\n",
    "                           names=['Personalnummer', \n",
    "                                    'Anrede', \n",
    "                                    'Vorname', \n",
    "                                    'Nachname',\n",
    "                                    'Geburtsdatum'],\n",
    "                            encoding='latin-1') # encoding auf latin-1 da sonst probleme mit Umlauten\n",
    "    pd.set_option('display.max_columns', None)\n",
    "    return df"
   ]
  },
  {
   "cell_type": "markdown",
   "id": "d28779aa",
   "metadata": {},
   "source": [
    "#### Daten bereinigen"
   ]
  },
  {
   "cell_type": "code",
   "execution_count": 3,
   "id": "0ab81ea6-6d5c-448c-b0a7-f6c8a87ae848",
   "metadata": {},
   "outputs": [],
   "source": [
    "def clean(data)->pd.DataFrame:\n",
    "    cleandata = data.copy()\n",
    "    errorframe = cleandata.loc[pd.to_datetime(data['Geburtsdatum'], format='%d.%m.%Y',errors='coerce').isna(), ['Personalnummer', \n",
    "                                    'Anrede', \n",
    "                                    'Vorname', \n",
    "                                    'Nachname',\n",
    "                                    'Geburtsdatum']]\n",
    "    indizes = [23, 39, 41, 54, 64, 65, 73, 81, 100]\n",
    "    cleandata = cleandata.drop(indizes)\n",
    "    for i in indizes:\n",
    "        errorframe.loc[i,'Datensatz?'] = 'Löschen'\n",
    "        errorframe.loc[i, 'Typ'] = 'Kein Datum'\n",
    "    cleandata.at[7, 'Geburtsdatum'] = '16.02.1963'\n",
    "    errorframe.loc[7, 'Datensatz?'] = 'Korrektur'\n",
    "    errorframe.loc[7, 'Typ'] = 'Falsche Spalte'\n",
    "    cleandata.at[21, 'Geburtsdatum'] = '01.02.1965'\n",
    "    errorframe.loc[21, 'Datensatz?'] = 'Korrektur'\n",
    "    errorframe.loc[21, 'Typ'] = 'Monat reicht für Alter'\n",
    "    return cleandata, errorframe"
   ]
  },
  {
   "cell_type": "markdown",
   "id": "17a72137",
   "metadata": {},
   "source": [
    "#### Geburtsdatum zu Alter konvertieren"
   ]
  },
  {
   "cell_type": "code",
   "execution_count": 4,
   "id": "818995a1-d257-4c26-b305-365af6506892",
   "metadata": {},
   "outputs": [],
   "source": [
    "def from_dob_to_age(dob)->int:\n",
    "    st = datetime(2005,12,31)\n",
    "    a = st.year - dob.year - ((st.month, st.day) < (dob.month, dob.day))\n",
    "    return a"
   ]
  },
  {
   "cell_type": "markdown",
   "id": "a63d1b1e",
   "metadata": {},
   "source": [
    "#### Alter aller Personen eines Geschlechts"
   ]
  },
  {
   "cell_type": "code",
   "execution_count": 5,
   "id": "79a971e2",
   "metadata": {},
   "outputs": [],
   "source": [
    "def get_gender_based_birthdays(data, gender=None)->pd.DataFrame:\n",
    "    # Alle Alterszahlen des angegebenen Geschlechts\n",
    "    # Wenn kein Geschlecht angegeben ist gibt diese Funktion alle Alterszahlen zurück\n",
    "    if gender is not None:\n",
    "        data = data[data['Anrede'] == gender]\n",
    "    \n",
    "    # Alter ausrechnen\n",
    "    \n",
    "    age = pd.DataFrame(columns=['age'])\n",
    "\n",
    "    age['age'] = pd.to_datetime(data['Geburtsdatum'], format=\"%d.%m.%Y\").apply(lambda x: from_dob_to_age(x) if from_dob_to_age(x) < 100 else np.nan)\n",
    "    age = age.dropna()\n",
    "\n",
    "    \n",
    "    return age"
   ]
  },
  {
   "cell_type": "markdown",
   "id": "5e644a9b",
   "metadata": {},
   "source": [
    "#### Werte berrechnen (Mittelwert, Varianz, Std.-Abw, Median, Spannweite)"
   ]
  },
  {
   "cell_type": "code",
   "execution_count": 6,
   "id": "a1796b77-5359-434e-a214-d403cfe4512c",
   "metadata": {},
   "outputs": [],
   "source": [
    "def age_average(data)->float:\n",
    "    # Berechne durchschnittliches Alter\n",
    "    return data['age'].mean()\n",
    "\n",
    "def age_variance(data)->float:\n",
    "    # Berechne Altersvarianz\n",
    "    variance = data['age'].var()\n",
    "    return variance\n",
    "    \n",
    "def age_standard_deviation(data)->float:\n",
    "    # Berechne Standardabweichung\n",
    "    return data['age'].std()\n",
    "\n",
    "def get_median(data)->float:\n",
    "    # Berechne Median\n",
    "    return data['age'].median()\n",
    "\n",
    "def get_range(data)->float:\n",
    "    # Berechne Range\n",
    "    return data['age'].max() - data['age'].min()"
   ]
  },
  {
   "cell_type": "markdown",
   "id": "a6bb9bb9",
   "metadata": {},
   "source": [
    "### Code"
   ]
  },
  {
   "cell_type": "code",
   "execution_count": 7,
   "id": "a20098cf-f392-4866-b39f-d5117ca2969a",
   "metadata": {},
   "outputs": [],
   "source": [
    "dt = readData('sr_aufg_1_35.txt')"
   ]
  },
  {
   "cell_type": "code",
   "execution_count": 8,
   "id": "96ece50e-5baf-4d99-8ad6-4b80132a43ad",
   "metadata": {},
   "outputs": [],
   "source": [
    "dt_clean, err = clean(dt)"
   ]
  },
  {
   "cell_type": "markdown",
   "id": "7722c595",
   "metadata": {},
   "source": [
    "> Korrektur\n",
    ">\n",
    "> Zu vor waren die Intervalle der Altersgruppen \n",
    "> $$[0,20), [20,30), [30,40), [40,50), [50,\\infty)$$\n",
    "> Oder auch\n",
    "> $$\\{y|0<=y<20\\}, \\{y|20<=y<30\\}, usw.$$\n",
    "> Aufgabenstellung: \"Es sollen die Altersklassen bis (einschließlich) 20 Jahre [...] gewählt werden.\" </br>\n",
    "> Aus diesem Grund lauten die neuen Intervalle </br>\n",
    "> $$[0,20], (20,30], (30,40], (40,50], (50,\\infty)$$\n",
    "> Oder auch\n",
    "> $$\\{y|0<=y<=20\\}, \\{y|20<y<=30\\}, usw.$$"
   ]
  },
  {
   "cell_type": "code",
   "execution_count": 9,
   "id": "9793fc9d-f22a-43f1-b8c4-526af0260908",
   "metadata": {},
   "outputs": [],
   "source": [
    "gbb = get_gender_based_birthdays(dt_clean,'Herr')\n",
    "male_average = age_average(gbb)\n",
    "male_variance = age_variance(gbb)\n",
    "male_standard_deviation = age_standard_deviation(gbb)\n",
    "male_median = get_median(gbb)\n",
    "male_range = get_range(gbb)\n",
    "male_a020 = gbb[gbb['age'].apply(lambda y: y >= 0 and y <= 20)]\n",
    "male_a2030 = gbb[gbb['age'].apply(lambda y: y > 20 and y <= 30)]\n",
    "male_a3040 = gbb[gbb['age'].apply(lambda y: y > 30 and y <= 40)]\n",
    "male_a4050 = gbb[gbb['age'].apply(lambda y: y > 40 and y <= 50)]\n",
    "male_a50 = gbb[gbb['age'].apply(lambda y: y > 50)]\n",
    "male_all = gbb['age']\n",
    "\n",
    "gbb = get_gender_based_birthdays(dt_clean, 'Frau')\n",
    "female_average = age_average(gbb)\n",
    "female_variance = age_variance(gbb)\n",
    "female_standard_deviation = age_standard_deviation(gbb)\n",
    "female_median = get_median(gbb)\n",
    "female_range = get_range(gbb)\n",
    "female_a020 = gbb[gbb['age'].apply(lambda y: y >= 0 and y <= 20)]\n",
    "female_a2030 = gbb[gbb['age'].apply(lambda y: y > 20 and y <= 30)]\n",
    "female_a3040 = gbb[gbb['age'].apply(lambda y: y > 30 and y <= 40)]\n",
    "female_a4050 = gbb[gbb['age'].apply(lambda y: y > 40 and y <= 50)]\n",
    "female_a50 = gbb[gbb['age'].apply(lambda y: y > 50)]\n",
    "female_all = gbb['age']\n",
    "\n",
    "gbb = get_gender_based_birthdays(dt_clean)\n",
    "average = age_average(gbb)\n",
    "variance = age_variance(gbb)\n",
    "standard_deviation = age_standard_deviation(gbb)\n",
    "median = get_median(gbb)\n",
    "rng = get_range(gbb)\n",
    "\n"
   ]
  },
  {
   "cell_type": "code",
   "execution_count": 10,
   "id": "2b315d58-31e6-4b23-bec6-84e1546eeacc",
   "metadata": {},
   "outputs": [],
   "source": [
    "averages = {\n",
    "    0 : average,\n",
    "    1 : female_average,\n",
    "    2 : male_average\n",
    "    }\n",
    "variances = {\n",
    "    0 : variance,\n",
    "    1 : female_variance,\n",
    "    2 : male_variance\n",
    "    }\n",
    "deviations = {\n",
    "    0 : standard_deviation,\n",
    "    1 : female_standard_deviation,\n",
    "    2 : male_standard_deviation\n",
    "    }\n",
    "medians = {\n",
    "    0 : median,\n",
    "    1 : female_median,\n",
    "    2 : male_median\n",
    "    }\n",
    "ranges = {\n",
    "    0 : rng,\n",
    "    1 : female_range,\n",
    "    2 : male_range\n",
    "    }\n",
    "dat = [ \n",
    "    averages.values(),\n",
    "    variances.values(),\n",
    "    deviations.values(),\n",
    "    medians.values(),\n",
    "    ranges.values()\n",
    "    ]"
   ]
  },
  {
   "cell_type": "code",
   "execution_count": 11,
   "id": "f37aa46f-a5d9-4796-9b5a-f38387d9dc4a",
   "metadata": {},
   "outputs": [],
   "source": [
    "dataf = pd.DataFrame(dat, columns=['gesamt', 'Frauen', 'Männer'], \n",
    "        index=['Mittelwert', 'Varianz', 'Std.-Abw', 'Median', 'Spannweite'])"
   ]
  },
  {
   "cell_type": "markdown",
   "id": "cb79b821",
   "metadata": {},
   "source": [
    "### Ausgabe"
   ]
  },
  {
   "cell_type": "markdown",
   "id": "51fb56ca",
   "metadata": {},
   "source": [
    "#### Mittelwerte, Varianzen und Std.-Abw"
   ]
  },
  {
   "cell_type": "code",
   "execution_count": 12,
   "id": "12d56e36-ce32-4a43-a756-9cbb683cfe83",
   "metadata": {},
   "outputs": [
    {
     "name": "stdout",
     "output_type": "stream",
     "text": [
      "              gesamt   Frauen    Männer\n",
      "Mittelwert   39.9412  36.0196   43.8627\n",
      "Varianz     153.7589  98.9796  180.2408\n",
      "Std.-Abw     12.4000   9.9488   13.4254\n",
      "Median       39.0000  35.0000   47.0000\n",
      "Spannweite   46.0000  45.0000   46.0000\n"
     ]
    }
   ],
   "source": [
    "dataf = dataf.round(4)\n",
    "print(dataf.to_string())"
   ]
  },
  {
   "cell_type": "markdown",
   "id": "0f2aa0c6",
   "metadata": {},
   "source": [
    "#### Korrekturen und Bereinigungen"
   ]
  },
  {
   "cell_type": "code",
   "execution_count": 13,
   "id": "542effc8",
   "metadata": {},
   "outputs": [
    {
     "name": "stdout",
     "output_type": "stream",
     "text": [
      "       Nachname      Geburtsdatum Datensatz?                     Typ\n",
      "7    16.02.1963               NaN  Korrektur          Falsche Spalte\n",
      "21          Rau   im Februar 1965  Korrektur  Monat reicht für Alter\n",
      "23       Wagner        VHVeHvZZXM    Löschen              Kein Datum\n",
      "39      Hartung         27.09.814    Löschen              Kein Datum\n",
      "41         Weiß                      Löschen              Kein Datum\n",
      "54    Schneider         unbekannt    Löschen              Kein Datum\n",
      "64       Berger              xxxx    Löschen              Kein Datum\n",
      "65          Alt            20.11.    Löschen              Kein Datum\n",
      "73       Walter        24.10.2824    Löschen              Kein Datum\n",
      "81       Seidel              xxxx    Löschen              Kein Datum\n",
      "100      Kaiser        12.12.2540    Löschen              Kein Datum\n"
     ]
    }
   ],
   "source": [
    "print(err[['Nachname', 'Geburtsdatum', 'Datensatz?', 'Typ']].to_string())\n",
    "# Nur einzele Spalten ausgeben\n",
    "# Bessere Lesbarkeit"
   ]
  },
  {
   "cell_type": "markdown",
   "id": "d74c1b46",
   "metadata": {},
   "source": [
    "#### Balkendiagramm"
   ]
  },
  {
   "cell_type": "code",
   "execution_count": 14,
   "id": "3342580a-d1e7-416b-88ac-fd3788dcb818",
   "metadata": {},
   "outputs": [
    {
     "data": {
      "image/png": "[encoded data removed]",
      "text/plain": [
       "<Figure size 432x288 with 1 Axes>"
      ]
     },
     "metadata": {
      "needs_background": "light"
     },
     "output_type": "display_data"
    }
   ],
   "source": [
    "labels = np.array(['(0,20]','(20,30]','(30,40]','(40,50]','(50,]'])\n",
    "male = np.array([\n",
    "    len(male_a020.index),\n",
    "    len(male_a2030.index),\n",
    "    len(male_a3040.index),\n",
    "    len(male_a4050.index),\n",
    "    len(male_a50.index)\n",
    "])\n",
    "female = np.array([\n",
    "    len(female_a020.index),\n",
    "    len(female_a2030.index),\n",
    "    len(female_a3040.index),\n",
    "    len(female_a4050.index),\n",
    "    len(female_a50.index)\n",
    "])\n",
    "x = np.arange(len(labels))\n",
    "width = 0.35\n",
    "fig, ax = plt.subplots()\n",
    "rect1 = ax.bar(x-width/2,male,width,label=\"Männer\")\n",
    "rect2 = ax.bar(x+width/2,female,width,label=\"Frauen\")\n",
    "\n",
    "ax.set_ylabel(\"Häufigkeit\")\n",
    "ax.set_title(\"Altersverteilung zum Stichtag 31.12.2005\")\n",
    "ax.set_xticks(x)\n",
    "ax.set_xticklabels(labels)\n",
    "ax.legend()\n",
    "\n",
    "\n",
    "fig.tight_layout()\n",
    "\n",
    "plt.show()"
   ]
  },
  {
   "cell_type": "markdown",
   "id": "8e97f2a6",
   "metadata": {},
   "source": [
    "#### Tortendiagramme "
   ]
  },
  {
   "cell_type": "code",
   "execution_count": 15,
   "id": "6fae2999",
   "metadata": {
    "scrolled": true
   },
   "outputs": [
    {
     "data": {
      "image/png": "[encoded data removed]",
      "text/plain": [
       "<Figure size 432x288 with 1 Axes>"
      ]
     },
     "metadata": {},
     "output_type": "display_data"
    }
   ],
   "source": [
    "male_all_count = len(male_all)\n",
    "labels = ['(0,20]','(20,30]','(30,40]','(40,50]','(50,]']\n",
    "sizes = [\n",
    "        len(male_a020)/male_all_count*100,\n",
    "        len(male_a2030)/male_all_count*100,\n",
    "        len(male_a3040)/male_all_count*100,\n",
    "        len(male_a4050)/male_all_count*100,\n",
    "        len(male_a50)/male_all_count*100\n",
    "        ]\n",
    "\n",
    "fig1, ax1 = plt.subplots()\n",
    "ax1.pie(sizes,labels=labels, autopct='%1.1f%%',\n",
    "        startangle=90)\n",
    "ax1.axis('equal')\n",
    "plt.title(\"Altersverteilung Männer\")\n",
    "plt.show()"
   ]
  },
  {
   "cell_type": "code",
   "execution_count": 16,
   "id": "a1c3f5de",
   "metadata": {},
   "outputs": [
    {
     "data": {
      "image/png": "[encoded data removed]",
      "text/plain": [
       "<Figure size 432x288 with 1 Axes>"
      ]
     },
     "metadata": {},
     "output_type": "display_data"
    }
   ],
   "source": [
    "female_all_count = len(female_all)\n",
    "sizes = [\n",
    "        len(female_a020)/female_all_count*100,\n",
    "        len(female_a2030)/female_all_count*100,\n",
    "        len(female_a3040)/female_all_count*100,\n",
    "        len(female_a4050)/female_all_count*100,\n",
    "        len(female_a50)/female_all_count*100\n",
    "        ]\n",
    "fig1, ax1 = plt.subplots()\n",
    "ax1.pie(sizes,labels=labels, autopct='%1.1f%%',\n",
    "        startangle=90)\n",
    "ax1.axis('equal')\n",
    "plt.title(\"Altersverteilung Frauen\")\n",
    "plt.show()"
   ]
  }
 ],
 "metadata": {
  "kernelspec": {
   "display_name": "Python 3 (ipykernel)",
   "language": "python",
   "name": "python3"
  },
  "language_info": {
   "codemirror_mode": {
    "name": "ipython",
    "version": 3
   },
   "file_extension": ".py",
   "mimetype": "text/x-python",
   "name": "python",
   "nbconvert_exporter": "python",
   "pygments_lexer": "ipython3",
   "version": "3.9.7"
  }
 },
 "nbformat": 4,
 "nbformat_minor": 5
}
